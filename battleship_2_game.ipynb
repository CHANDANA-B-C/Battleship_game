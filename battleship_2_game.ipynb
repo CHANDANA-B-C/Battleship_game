{
 "cells": [
  {
   "cell_type": "code",
   "execution_count": null,
   "metadata": {
    "collapsed": true
   },
   "outputs": [],
   "source": [
    "# -*- coding: utf-8 -*-\n",
    "\"\"\"\n",
    "Created on Tue Feb  6 11:07:03 2018\n",
    "\n",
    "@author: Pooja\n",
    "www.poojaangurala.com\n",
    "github/m-pooja\n",
    "\"\"\"\n",
    "from random import randint"
   ]
  },
  {
   "cell_type": "code",
   "execution_count": null,
   "metadata": {
    "collapsed": true
   },
   "outputs": [],
   "source": [
    "\"\"\"\n",
    "Creating ocean / board\n",
    "\"\"\"\n",
    "board = []\n",
    "\n",
    "for x in range(0, 10):\n",
    "  board.append([\"O\"] * 10)\n",
    "\n",
    "def print_board(board):\n",
    "  for row in board:\n",
    "    print (\" \".join(row))\n"
   ]
  },
  {
   "cell_type": "code",
   "execution_count": null,
   "metadata": {
    "collapsed": true
   },
   "outputs": [],
   "source": [
    "#print board\n",
    "\n",
    "print_board(board)"
   ]
  },
  {
   "cell_type": "code",
   "execution_count": null,
   "metadata": {
    "collapsed": true
   },
   "outputs": [],
   "source": [
    "\"\"\"\n",
    "Placing battleships: two ships are considered in this game\n",
    "\"\"\"\n",
    "def random_row(board):\n",
    "  return randint(0, len(board) - 1)\n",
    "\n",
    "def random_col(board):\n",
    "  return randint(0, len(board[0]) - 1)\n",
    "\n",
    "ship1_row = random_row(board)\n",
    "ship1_col = random_col(board)\n",
    "ship2_row = random_row(board)\n",
    "ship2_col = random_col(board)"
   ]
  },
  {
   "cell_type": "code",
   "execution_count": null,
   "metadata": {
    "collapsed": true
   },
   "outputs": [],
   "source": [
    "#developing game\n",
    "s=0\n",
    "for turn in range(9):\n",
    "  print (\"Turn\", turn + 1)\n",
    "  guess_row = int(input(\"Guess Row: \"))\n",
    "  guess_col = int(input(\"Guess Col: \"))\n",
    "   \n",
    "  if (guess_row == ship1_row and guess_col == ship1_col) or (guess_row == ship2_row and guess_col == ship2_col):\n",
    "    print (\"Congratulations! You sank one of my battleship!\")\n",
    "    board[guess_row][guess_col] = \"#\"\n",
    "    s=s+1\n",
    "    if s==2:\n",
    "        print(\"all ships sank\")\n",
    "        break\n",
    "  else:\n",
    "    if guess_row not in range(10) or \\\n",
    "      guess_col not in range(10):\n",
    "      print (\"Oops, that's not even in the ocean.\")\n",
    "    elif board[guess_row][guess_col] == \"X\":\n",
    "      print( \"You guessed that one already.\" )\n",
    "    else:\n",
    "      print (\"You missed my battleship!\")\n",
    "      board[guess_row][guess_col] = \"X\"\n",
    "    if (turn == 3):\n",
    "      print (\"Game Over\")\n",
    "    print_board(board)\n",
    "\n"
   ]
  }
 ],
 "metadata": {
  "kernelspec": {
   "display_name": "Python 3",
   "language": "python",
   "name": "python3"
  },
  "language_info": {
   "codemirror_mode": {
    "name": "ipython",
    "version": 3
   },
   "file_extension": ".py",
   "mimetype": "text/x-python",
   "name": "python",
   "nbconvert_exporter": "python",
   "pygments_lexer": "ipython3",
   "version": "3.6.3"
  }
 },
 "nbformat": 4,
 "nbformat_minor": 2
}

